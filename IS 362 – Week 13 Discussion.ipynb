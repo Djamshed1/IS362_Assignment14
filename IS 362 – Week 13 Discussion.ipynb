{
 "cells": [
  {
   "cell_type": "markdown",
   "metadata": {},
   "source": [
    "# IS 362 – Week 14 Discussion"
   ]
  },
  {
   "cell_type": "markdown",
   "metadata": {},
   "source": [
    "##### 1. Identify a recommender system web site.\n",
    "The web site I chose is ebay a e-commerce online buying and selling web site. Ebay has been around since 1995 and since than they have been successful. Ebay I believe number one web site who came up with auction based selling through web site and it's been like this until now. After carefully reviewing ebay, I found that ebay uses recently viewed, upcoming holiday deals, seasonal deals and featured deals recommender system. However, I notice that ebay doesn't use collaborative filtering, most viewed items, mostly purchased and currently fast bidding items recommenders systems which will encourage users to click on the deal and bid."
   ]
  },
  {
   "cell_type": "markdown",
   "metadata": {},
   "source": [
    "##### 2. Who are your target users?\n",
    "Target users are current ebay users who actively likes to purchase items from ebay in auction buying format."
   ]
  },
  {
   "cell_type": "markdown",
   "metadata": {},
   "source": [
    "##### 3. What are their key goals?\n",
    "Their goal is to find and buy high quality and mostly want items from the mostly trusted sellers. Because it will guarantee that they purchase will be shipped and delivered on time."
   ]
  },
  {
   "cell_type": "markdown",
   "metadata": {},
   "source": [
    "##### 4. How can you help them accomplish those goals?\n",
    "To accomplish this goal, we need engineering steps so that we can add some changes on how recomendation system works on ebay. We need project manager, business analysts, developers and software quality assurance help in order to accomplish this.\n",
    "- ** Mostly viewed items ** - We will do a SQL data analysis and gather what other users looking at mostly and which items are getting viewed mostlt and we will recommend those items to the users.\n",
    "- ** Mostly purchased ** - We will again use SQL data analysis and gather a data of what customers mostly purchasing in current month/week and we'll recommend customers the mostly purchased items.\n",
    "- ** Currently fast bidding ** - Again, SQL data analysis will be used and find out what items age at this point in time getting most bids and recommend this items to the users."
   ]
  }
 ],
 "metadata": {
  "kernelspec": {
   "display_name": "Python 3",
   "language": "python",
   "name": "python3"
  },
  "language_info": {
   "codemirror_mode": {
    "name": "ipython",
    "version": 3
   },
   "file_extension": ".py",
   "mimetype": "text/x-python",
   "name": "python",
   "nbconvert_exporter": "python",
   "pygments_lexer": "ipython3",
   "version": "3.6.1"
  }
 },
 "nbformat": 4,
 "nbformat_minor": 2
}
